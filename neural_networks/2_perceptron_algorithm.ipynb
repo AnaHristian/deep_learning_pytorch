{
 "cells": [
  {
   "cell_type": "markdown",
   "metadata": {},
   "source": [
    "## Coding the Perceptron Algorithm\n",
    "\n",
    "Recall that the perceptron step works as follows. \n",
    "- For a point with coordinates (p,q), label y, \n",
    "- and prediction given by the equation \n",
    "$$\\hat{y} = step(w_1x_1 + w_2x_2 + b)$$ \n",
    "\n",
    "1. If the point is correctly classified, do nothing.\n",
    "2. If the point is classified positive, but it has a negative label, subtract $$\\alpha p, \\alpha q,αp,αq, \\ and \\ \\alphaα \\ from \\   w_1, w_2,w\n",
    "1\n",
    "​\t ,w \n",
    "2\n",
    "​\t , and \\ b \\ respectively.$$\n",
    "3. If the point is classified negative, but it has a positive label, add $$\\alpha p, \\alpha q,αp,αq, \\ and \\ \\alphaα \\ from \\   w_1, w_2,w\n",
    "1\n",
    "​\t ,w \n",
    "2\n",
    "​\t , and \\ b \\ respectively.$$\n",
    "\n",
    "It'll actually draw a set of dotted lines, that show how the algorithm approaches to the best solution, given by the black solid line.\n",
    "\n",
    "Feel free to play with the parameters of the algorithm (number of epochs, learning rate, and even the randomizing of the initial parameters) to see how your initial conditions can affect the solution!"
   ]
  },
  {
   "cell_type": "code",
   "execution_count": 17,
   "metadata": {},
   "outputs": [],
   "source": [
    "import numpy as np\n",
    "# Setting the random seed, feel free to change it and see different solutions.\n",
    "np.random.seed(42)"
   ]
  },
  {
   "cell_type": "code",
   "execution_count": 18,
   "metadata": {},
   "outputs": [],
   "source": [
    "def stepFunction(t):\n",
    "    if t >= 0:\n",
    "        return 1\n",
    "    return 0"
   ]
  },
  {
   "cell_type": "code",
   "execution_count": 19,
   "metadata": {},
   "outputs": [],
   "source": [
    "def prediction(X, W, b):\n",
    "    return stepFunction((np.matmul(X,W)+b)[0])"
   ]
  },
  {
   "cell_type": "markdown",
   "metadata": {},
   "source": [
    "####  Explain `trainPerceptronAlgorithm(X, y)`\n",
    "\n",
    "`trainPerceptronAlgorithm` will randomnly generate the Weights and the bias and than optimize the line:\n",
    "1. `W = np.array(np.random.rand(2,1))`\n",
    "2. `b = np.random.rand(1)[0] + x_max`\n",
    "3. `x_max = max(X.T[0])`, the maximum value `[ 0.78051 , -0.063669]`\n",
    "4. for the number of epochs it will optimize the line"
   ]
  },
  {
   "cell_type": "code",
   "execution_count": 20,
   "metadata": {},
   "outputs": [],
   "source": [
    "# TODO: Fill in the code below to implement the perceptron trick.\n",
    "# The function should receive as inputs the data X, the labels y,\n",
    "# the weights W (as an array), and the bias b,\n",
    "# update the weights and bias W, b, according to the perceptron algorithm,\n",
    "# and return W and b.\n",
    "def perceptronStep(X, y, W, b, learn_rate = 0.01):\n",
    "    for i in range(len(X)):\n",
    "        y_hat = prediction(X[i],W,b)\n",
    "        if y[i]-y_hat == 1:\n",
    "            W[0] += X[i][0]*learn_rate\n",
    "            W[1] += X[i][1]*learn_rate\n",
    "            b += learn_rate\n",
    "        elif y[i]-y_hat == -1:\n",
    "            W[0] -= X[i][0]*learn_rate\n",
    "            W[1] -= X[i][1]*learn_rate\n",
    "            b -= learn_rate\n",
    "    return W, b"
   ]
  },
  {
   "cell_type": "code",
   "execution_count": 21,
   "metadata": {},
   "outputs": [],
   "source": [
    "# This function runs the perceptron algorithm repeatedly on the dataset,\n",
    "# and returns a few of the boundary lines obtained in the iterations,\n",
    "# for plotting purposes.\n",
    "# Feel free to play with the learning rate and the num_epochs,\n",
    "# and see your results plotted below.\n",
    "def trainPerceptronAlgorithm(X, y, learn_rate = 0.01, num_epochs = 25):\n",
    "    x_min, x_max = min(X.T[0]), max(X.T[0])\n",
    "    y_min, y_max = min(X.T[1]), max(X.T[1])\n",
    "    W = np.array(np.random.rand(2,1))\n",
    "    b = np.random.rand(1)[0] + x_max\n",
    "    # These are the solution lines that get plotted below.\n",
    "    boundary_lines = []\n",
    "    for i in range(num_epochs):\n",
    "        # In each epoch, we apply the perceptron step.\n",
    "        W, b = perceptronStep(X, y, W, b, learn_rate)\n",
    "        boundary_lines.append((-W[0]/W[1], -b/W[1]))\n",
    "    return boundary_lines"
   ]
  },
  {
   "cell_type": "code",
   "execution_count": 22,
   "metadata": {},
   "outputs": [
    {
     "data": {
      "text/plain": [
       "array([[ 0.78051 , -0.063669,  1.      ],\n",
       "       [ 0.28774 ,  0.29139 ,  1.      ],\n",
       "       [ 0.40714 ,  0.17878 ,  1.      ]])"
      ]
     },
     "execution_count": 22,
     "metadata": {},
     "output_type": "execute_result"
    }
   ],
   "source": [
    "data_points = np.genfromtxt('data.csv', delimiter=',')\n",
    "data_points = np.array([data_points])\n",
    "data_points[0,:3,:]"
   ]
  },
  {
   "cell_type": "code",
   "execution_count": 23,
   "metadata": {},
   "outputs": [
    {
     "data": {
      "text/plain": [
       "(1, 100, 3)"
      ]
     },
     "execution_count": 23,
     "metadata": {},
     "output_type": "execute_result"
    }
   ],
   "source": [
    "data_points.shape"
   ]
  },
  {
   "cell_type": "code",
   "execution_count": 24,
   "metadata": {},
   "outputs": [
    {
     "data": {
      "text/plain": [
       "100"
      ]
     },
     "execution_count": 24,
     "metadata": {},
     "output_type": "execute_result"
    }
   ],
   "source": [
    "# the data X, inputs X1, X2 For a point with coordinates (x1,x2), label y\n",
    "# get the transpose of the data\n",
    "X = data_points[0, :, [0, 1]].T\n",
    "len(X)"
   ]
  },
  {
   "cell_type": "code",
   "execution_count": 25,
   "metadata": {},
   "outputs": [
    {
     "data": {
      "text/plain": [
       "array([0.28774, 0.29139])"
      ]
     },
     "execution_count": 25,
     "metadata": {},
     "output_type": "execute_result"
    }
   ],
   "source": [
    "X[1]"
   ]
  },
  {
   "cell_type": "code",
   "execution_count": 26,
   "metadata": {},
   "outputs": [
    {
     "data": {
      "text/plain": [
       "array([ 0.78051 , -0.063669])"
      ]
     },
     "execution_count": 26,
     "metadata": {},
     "output_type": "execute_result"
    }
   ],
   "source": [
    "X[0]"
   ]
  },
  {
   "cell_type": "code",
   "execution_count": 27,
   "metadata": {},
   "outputs": [
    {
     "data": {
      "text/plain": [
       "(0.0084492, 1.0, -0.063669, 1.0)"
      ]
     },
     "execution_count": 27,
     "metadata": {},
     "output_type": "execute_result"
    }
   ],
   "source": [
    "min(X.T[0]), max(X.T[0]), min(X.T[1]), max(X.T[1])"
   ]
  },
  {
   "cell_type": "code",
   "execution_count": 28,
   "metadata": {},
   "outputs": [
    {
     "data": {
      "text/plain": [
       "100"
      ]
     },
     "execution_count": 28,
     "metadata": {},
     "output_type": "execute_result"
    }
   ],
   "source": [
    "y = data_points[0, :, 2]\n",
    "len(y)"
   ]
  },
  {
   "cell_type": "code",
   "execution_count": 29,
   "metadata": {},
   "outputs": [
    {
     "data": {
      "text/plain": [
       "2"
      ]
     },
     "execution_count": 29,
     "metadata": {},
     "output_type": "execute_result"
    }
   ],
   "source": [
    "W = np.array(np.random.rand(2))\n",
    "len(W)"
   ]
  },
  {
   "cell_type": "code",
   "execution_count": 30,
   "metadata": {},
   "outputs": [
    {
     "data": {
      "text/plain": [
       "[(array([-1.56110426]), array([-2.63299426])),\n",
       " (array([0.45752748]), array([1.55470892])),\n",
       " (array([-0.10086075]), array([0.41573526])),\n",
       " (array([-0.16602821]), array([0.42103506])),\n",
       " (array([-0.19634015]), array([0.51029731])),\n",
       " (array([-0.24345226]), array([0.52298673])),\n",
       " (array([-0.29296716]), array([0.53632335])),\n",
       " (array([-0.34292209]), array([0.54849516])),\n",
       " (array([-0.39519712]), array([0.56123228])),\n",
       " (array([-0.43231575]), array([0.57076701])),\n",
       " (array([-0.45476963]), array([0.57722415])),\n",
       " (array([-0.45659621]), array([0.57213908])),\n",
       " (array([-0.45793699]), array([0.66894133])),\n",
       " (array([-0.46960191]), array([0.66977523])),\n",
       " (array([-0.48129595]), array([0.67061121])),\n",
       " (array([-0.49301922]), array([0.67144929])),\n",
       " (array([-0.50477183]), array([0.67228946])),\n",
       " (array([-0.55086766]), array([0.68325529])),\n",
       " (array([-0.61734915]), array([0.70345164])),\n",
       " (array([-0.65473543]), array([0.71798984])),\n",
       " (array([-0.69369965]), array([0.73314164])),\n",
       " (array([-0.73434384]), array([0.74894673])),\n",
       " (array([-0.72032954]), array([0.74403563])),\n",
       " (array([-0.70649784]), array([0.73918852])),\n",
       " (array([-0.69284518]), array([0.73440415]))]"
      ]
     },
     "execution_count": 30,
     "metadata": {},
     "output_type": "execute_result"
    }
   ],
   "source": [
    "trained = trainPerceptronAlgorithm(X, y)\n",
    "trained"
   ]
  },
  {
   "cell_type": "code",
   "execution_count": 31,
   "metadata": {},
   "outputs": [
    {
     "data": {
      "text/plain": [
       "25"
      ]
     },
     "execution_count": 31,
     "metadata": {},
     "output_type": "execute_result"
    }
   ],
   "source": [
    "len(trained)"
   ]
  },
  {
   "cell_type": "code",
   "execution_count": 37,
   "metadata": {},
   "outputs": [
    {
     "data": {
      "text/plain": [
       "0.5"
      ]
     },
     "execution_count": 37,
     "metadata": {},
     "output_type": "execute_result"
    }
   ],
   "source": [
    "(y == 1).mean()"
   ]
  },
  {
   "cell_type": "code",
   "execution_count": null,
   "metadata": {},
   "outputs": [],
   "source": []
  }
 ],
 "metadata": {
  "kernelspec": {
   "display_name": "Python 3",
   "language": "python",
   "name": "python3"
  },
  "language_info": {
   "codemirror_mode": {
    "name": "ipython",
    "version": 3
   },
   "file_extension": ".py",
   "mimetype": "text/x-python",
   "name": "python",
   "nbconvert_exporter": "python",
   "pygments_lexer": "ipython3",
   "version": "3.7.0"
  }
 },
 "nbformat": 4,
 "nbformat_minor": 2
}
